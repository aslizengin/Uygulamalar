{
 "cells": [
  {
   "attachments": {},
   "cell_type": "markdown",
   "metadata": {},
   "source": [
    "# Problem 1\n",
    "\n",
    "Şimdi beraber kullanıcılardan aldığımız verileri işleyerek, onlara hem çıktı verecek, hem de aldığımız ve hesapladığımız verileri ileride kullanabilmek adına kaydedeceğiz.\n",
    "\n",
    "\n",
    " **Bu bir veri giriş platformu olacak**\n",
    "\n",
    "\n",
    " * kullanıcıya kaç giriş yapacağını soracağız\n",
    "* kullanıcıdan isim-soyisim, yaş, boy, kilo bilgilerini alarak VKİ hesaplayacağız\n",
    "* ardından bunları sınıflara göre kaydedeceğiz bir dosyaya kaydedeceğiz\n",
    "\n",
    "\n",
    "Sınıflar ise şu şekilde: \n",
    "* 18, 5 kg/m.'nin altında olanlar: Zayıf\n",
    "* 18.5 – 24, 9 kg/m. arasında olanlar: Normal kilolu\n",
    "* 25 – 29, 9 kg/m. arasında olanlar: Fazla kilolu\n",
    "* 30 – 39, 9 kg/m. arasında olanlar: Obez\n",
    "* 40 kg/m.'nin üzerinde olanlar: İleri derecede obez (morbid obez), olarak görülür."
   ]
  },
  {
   "cell_type": "code",
   "execution_count": 11,
   "metadata": {},
   "outputs": [
    {
     "name": "stdout",
     "output_type": "stream",
     "text": [
      "Giriş 1:\n"
     ]
    }
   ],
   "source": [
    "\n",
    "def kategori(vki):\n",
    "    if vki < 18.5:\n",
    "        return 'Zayif'\n",
    "    elif vki < 25:\n",
    "        return 'Normal Kilolu'\n",
    "    elif vki < 30:\n",
    "        return 'Fazla Kilolu'\n",
    "    elif vki < 40:\n",
    "        return 'Obez'\n",
    "    else:\n",
    "        return 'İleri Derecede Obez'\n",
    "\n",
    "giris_sayisi = int(input(\"Kaç giriş yapacaksiniz? \"))\n",
    "kullanicilar = []\n",
    "for i in range(giris_sayisi):\n",
    "    print(f\"Giriş {i+1}:\")\n",
    "    ad = input(\"Adiniz: \")\n",
    "    soyad = input(\"Soyadinizz: \")\n",
    "    yas = int(input(\"Yaşiniz: \"))\n",
    "    boy = float(input(\"Boyunuz (metre cinsinden): \"))\n",
    "    kilo = float(input(\"Kilonuz (kg cinsinden): \"))   \n",
    "    vki = kilo / (boy ** 2)\n",
    "    sinif = kategori(vki)\n",
    "    kullanicilar.append([ad, soyad, yas, boy, kilo, vki, sinif])\n",
    "with open(\"kullanici_bilgileri.txt\", \"w\") as dosya:\n",
    "    for kullanici in kullanicilar:\n",
    "        dosya.write(f\"{kullanici[0]} {kullanici[1]}\\n\")\n",
    "        dosya.write(f\"Yas: {kullanici[2]}, Boy: {kullanici[3]}, Kilo: {kullanici[4]}\\n\")\n",
    "        dosya.write(f\"VKI: {kullanici[5]:.2f}, Sinifi: {kullanici[6]}\\n\")\n",
    "        dosya.write(\"_________________\\n\")\n",
    "\n"
   ]
  },
  {
   "attachments": {},
   "cell_type": "markdown",
   "metadata": {},
   "source": [
    "# Problem 2\n",
    "**YetBar - Smoothie Bank**\n",
    "---\n",
    "YetBar spor salonunun girişinde bulunan, insansız bir sağlıklı içecek otomatıdır. Kullanıcı çeşitli girdiler smoothie içeceğine koyacağı ürünleri belirleyebilir, fiyat hesaplaması yaptırabilir ya da sadece menüyü görüntüleyebilir.\n",
    "\n",
    "**Projenin Amacı:**\n",
    "\n",
    "*   Birbirini etkileyen ve bir kod içerisinde birden fazla defa başvurulacak fonksiyonların oluşturulup, \"fonksiyonel\" proglamlamak.\n",
    "*   Büyük programları yazarken, yazılımcı olarak yapabileceğimiz hatalardan kaçınmak için kontrol yöntemleri geliştirmek.\n",
    "*   Kullanıcı inputlarını ve yaptığımız hesapları, raporlamak/loglamak amacıyla kaydetmek.\n",
    "\n",
    "**Programdan Beklenen Çıktılar**\n",
    "* Program kullanıcıya temelde 2 farklı işlem yapma imkanı sağlar.\n",
    "> 1. Menüyü görüntüleme\n",
    "> 3. Satın alma\n",
    "* Satın alınan her içecek tarih, fiyat bilgisi ile kaydedilmeli ve her zaman ulaşılabilir olmalıdır.\n",
    "\n",
    "\n"
   ]
  },
  {
   "cell_type": "code",
   "execution_count": 9,
   "metadata": {},
   "outputs": [
    {
     "name": "stdout",
     "output_type": "stream",
     "text": [
      "MENÜ\n",
      "SMOOTHIE KLASIK: 20 TL\n",
      "BADEM SÜTÜ: 12 TL\n",
      "VITAMIN: 15 TL\n",
      "KIRMIZI MEYVELER: 13 TL\n",
      "ELMA: 7 TL\n",
      "YEŞIL AROMA: 12 TL\n",
      "___________\n",
      "2 tane badem sütü=24 TL\n",
      "1 tane kirmizi meyveler=13 TL\n",
      "Toplam Fiyat=37 TL\n",
      "İşlem Tarihi= 2023-04-22\n",
      "İşlem Saati=02:05\n",
      "_____________\n",
      "2 tane vitamin=30 TL\n",
      "1 tane badem sütü=12 TL\n",
      "Toplam Fiyat=42 TL\n",
      "İşlem Tarihi= 2023-04-22\n",
      "İşlem Saati=02:06\n",
      "_____________\n",
      "1 tane smoothie klasik=20 TL\n",
      "1 tane elma=7 TL\n",
      "1 tane yeşil aroma=12 TL\n",
      "Toplam Fiyat=39 TL\n",
      "İşlem Tarihi= 2023-04-22\n",
      "İşlem Saati=02:09\n",
      "_____________\n",
      "\n"
     ]
    }
   ],
   "source": [
    "import datetime\n",
    "\n",
    "menu= {\"smoothie klasik\":20, \"badem sütü\":12,\"vitamin\":15,\"kirmizi meyveler\":13, \"elma\":7, \"yeşil aroma\":12}\n",
    "\n",
    "def menü():\n",
    "    print(\"MENÜ\")\n",
    "    for i in list(menu.keys()):\n",
    "        print(f\"{i.upper()}: {menu[i]} TL\")\n",
    "    print(\"___________\")\n",
    "\n",
    "def fiyat_hesaplama(ürün,adet):\n",
    "    if ürün in list(menu.keys()) and adet>0:\n",
    "        return menu[ürün]*int(adet)\n",
    "    else:\n",
    "        return None\n",
    "\n",
    "def satin_alma():\n",
    "    a=int(int(input(\"Menüyü görmek için 1'e, menüyü görmeden devam etmek için 2'ye basın.\")))\n",
    "    if a==1:\n",
    "        menü()\n",
    "    ürünSayisi= int(input(\"Kaç ürün girmek istediğinizi belirtin.\"))\n",
    "    count=1\n",
    "    toplamFiyat=0\n",
    "    with open (\"alışverişbilgisi.txt\",\"a\",encoding=\"utf-8\") as f:\n",
    "        for i in range(ürünSayisi):\n",
    "            while True:\n",
    "                ürün=input(f\"{count}.ürünü giriniz:\")\n",
    "                if ürün not in list(menu.keys()):\n",
    "                    print(\"Lütfen menüden bir ürün seçiniz!\")\n",
    "                    continue\n",
    "                break\n",
    "            count+=1\n",
    "            adet=int(input(f\"{ürün} ürününden kaç tane almak istiyorsunuz?\"))\n",
    "            fiyat=fiyat_hesaplama(ürün,adet)\n",
    "            toplamFiyat+=fiyat\n",
    "            f.write(f\"{adet} tane {ürün}={fiyat} TL\\n\")\n",
    "        şimdi=datetime.datetime.now()\n",
    "        tarih=şimdi.date()\n",
    "        saat=şimdi.strftime(\"%H\")\n",
    "        dakika=şimdi.strftime(\"%M\")\n",
    "        f.write(f\"Toplam Fiyat={toplamFiyat} TL\\n\")\n",
    "        f.write(f\"İşlem Tarihi= {tarih}\\n\")\n",
    "        f.write(f\"İşlem Saati={saat}:{dakika}\\n\")\n",
    "        f.write(\"_____________\\n\")\n",
    "    with open(\"alışverişbilgisi.txt\",\"r\", encoding=\"utf-8\") as f:\n",
    "        alışverişbilgisi=f.read()\n",
    "        print(alışverişbilgisi)\n",
    "\n",
    "satin_alma()\n"
   ]
  }
 ],
 "metadata": {
  "kernelspec": {
   "display_name": "Python 3",
   "language": "python",
   "name": "python3"
  },
  "language_info": {
   "codemirror_mode": {
    "name": "ipython",
    "version": 3
   },
   "file_extension": ".py",
   "mimetype": "text/x-python",
   "name": "python",
   "nbconvert_exporter": "python",
   "pygments_lexer": "ipython3",
   "version": "3.11.1"
  },
  "orig_nbformat": 4,
  "vscode": {
   "interpreter": {
    "hash": "5026d2d6e7aaaaba093def813beadff083d8733e4a511af01735cbabd156995d"
   }
  }
 },
 "nbformat": 4,
 "nbformat_minor": 2
}
