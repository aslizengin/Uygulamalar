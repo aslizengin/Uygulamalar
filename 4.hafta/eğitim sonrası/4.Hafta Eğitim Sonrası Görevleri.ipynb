{
 "cells": [
  {
   "cell_type": "markdown",
   "metadata": {},
   "source": [
    "# Problem 1\n",
    "`ogrenciler` adında bir sözlük oluşturunuz. Kullanıcıdan döngü yardımıyla 3 öğrenci için veri girmesini isteyerek öğrencilerin sırasıyla okul numarası, isim, soy isim, telefon numarası ve doğum tarihi bilgilerini alınız. Aldığınız öğrenci bilgilerini yine aynı döngü yardımıyla `ogrenciler` adındaki sözlükte saklayınız. Daha sonra öğrenci bilgilerinin bulunduğu sözlük yapısını ekrana bastırınız.\n",
    "\n"
   ]
  },
  {
   "cell_type": "code",
   "execution_count": 4,
   "metadata": {},
   "outputs": [
    {
     "name": "stdout",
     "output_type": "stream",
     "text": [
      "{'okul no:': '196', 'isim:': 'Aslı', 'soy isim:': 'Zengin', 'doğum:': '2001', 'telefon:': '0544'}\n",
      "{'okul no:': '963', 'isim:': 'Zeynep', 'soy isim:': 'Güler', 'doğum:': '2000', 'telefon:': '0542'}\n",
      "{'okul no:': '265', 'isim:': 'Ömer', 'soy isim:': 'Asaf', 'doğum:': '2014', 'telefon:': '0543'}\n"
     ]
    }
   ],
   "source": [
    "mydictioanry={}\n",
    "for i in range(3):\n",
    "    okulno=input(\"okul numarası giriniz:\")\n",
    "    isim=input(\"isim giriniz:\")\n",
    "    soyisim=input(\"soy isim giriniz:\")\n",
    "    doğum=input(\"doğum tarihi giriniz:\")\n",
    "    telefon=input(\"telefon numarası giriniz:\")\n",
    "    liste=[isim,soyisim,doğum,telefon]\n",
    "    mydictionary={\"okul no:\":okulno,\"isim:\":isim,\"soy isim:\":soyisim,\"doğum:\":doğum,\"telefon:\":telefon}\n",
    "    print(mydictionary)\n",
    "\n",
    "\n"
   ]
  },
  {
   "cell_type": "markdown",
   "metadata": {},
   "source": [
    "# Problem 2\n",
    "\n",
    "### a - Biraz ısınarak başlayalım!\n",
    "\n",
    "```\n",
    "numbers = [5,10,10,15,15,15,20,20,20,20]\n",
    "```\n",
    "\n",
    "Yukarıda `numbers` adında 10 elemanlı bir liste verilmiştir. Bu listenin her elemanını kontrol eden ve tekrar eden elemanları bir kez olacak şekilde başka bir listeye kopyalayan bir program yazınız. Son olarak oluşturduğunuz listeyi ekrana bastırınız.\n",
    "\n",
    "\n",
    "\n",
    "\n",
    "```\n",
    ">Output\n",
    "[5, 10, 15, 20]\n",
    "```\n"
   ]
  },
  {
   "cell_type": "code",
   "execution_count": 19,
   "metadata": {},
   "outputs": [
    {
     "name": "stdout",
     "output_type": "stream",
     "text": [
      "{10, 20, 5, 15}\n"
     ]
    }
   ],
   "source": [
    "numbers=[5,10,10,15,15,15,20,20,20,20]\n",
    "liste=set(numbers)\n",
    "print(liste)\n"
   ]
  },
  {
   "cell_type": "markdown",
   "metadata": {},
   "source": [
    "### 🌶️ b) Hadi işi biraz daha zorlaştıralım! \n",
    "\n",
    "\n",
    "Şimdiyse senden `numbers` isimli listedeki tekrar eden elemanları `repeatNumbers` adındaki listeye; tekrar etmeyen elemanları `uniqueNumbers`adındaki listeye kopyalayan yazmanı ve listeleri ekrana bastırmanı bekliyoruz\n",
    "\n",
    "```\n",
    ">Output\n",
    "Tekrar Eden Elemanlar: [10, 10, 15, 15, 15, 20, 20, 20, 20]\n",
    "Tekrar Etmeyen Elemanlar: [5]\n",
    "```"
   ]
  },
  {
   "cell_type": "code",
   "execution_count": 41,
   "metadata": {},
   "outputs": [
    {
     "name": "stdout",
     "output_type": "stream",
     "text": [
      "Tekrar Eden Elemanlar: [10, 10, 15, 15, 15, 20, 20, 20, 20]\n",
      "Tekrar Etmeyen Elemanlar: [5]\n"
     ]
    }
   ],
   "source": [
    "numbers=[5,10,10,15,15,15,20,20,20,20]\n",
    "repeatNumbers=[]\n",
    "uniqueNumbers=[]\n",
    "for sayı in numbers:\n",
    "    if numbers.count(sayı)==1:\n",
    "        uniqueNumbers.append(sayı)\n",
    "    else:\n",
    "        repeatNumbers.append(sayı)\n",
    "print(\"Tekrar Eden Elemanlar:\",repeatNumbers)\n",
    "print(\"Tekrar Etmeyen Elemanlar:\",uniqueNumbers)\n",
    "\n",
    "        \n",
    "        "
   ]
  },
  {
   "cell_type": "markdown",
   "metadata": {},
   "source": [
    "# Problem 3\n",
    "sn1 = {1,2,3,4,5}\n",
    "\n",
    "sn2 = {4,5,6,7,8}\n",
    "\n",
    " Verilen 2 adet küme için kesişimlerini, farklarını ve birleşimlerini bulunuz. "
   ]
  },
  {
   "cell_type": "code",
   "execution_count": 44,
   "metadata": {},
   "outputs": [
    {
     "name": "stdout",
     "output_type": "stream",
     "text": [
      "Kesişim: {4, 5}\n",
      "Fark: {1, 2, 3}\n",
      "Birleşim: {1, 2, 3, 4, 5, 6, 7, 8}\n"
     ]
    }
   ],
   "source": [
    "sn1={1,2,3,4,5}\n",
    "sn2={4,5,6,7,8}\n",
    "kesişim=sn1.intersection(sn2)\n",
    "print(\"Kesişim:\",kesişim)\n",
    "\n",
    "fark=sn1.difference(sn2)\n",
    "print(\"Fark:\",fark)\n",
    "\n",
    "birleşim=sn1.union(sn2)\n",
    "print(\"Birleşim:\",birleşim)"
   ]
  },
  {
   "cell_type": "markdown",
   "metadata": {},
   "source": [
    "# Problem 4\n",
    "\n",
    "Buradaki işlemlerimizin tamamı stringler içindir. Aşağıda verilecek olan metodlar için kendinizin örnek yaratması gerekmektedir. \n",
    "\n",
    "Örneğin `upper` için `string` değişkeni oluştururken` k = \"BAC\"` şeklinde oluşturmayınız. Bunun yerine k değişkenini `k = \"bac`\" şeklinde oluşturmanız `upper` metodundaki değişimi görebilmeniz için daha iyi olacaktır.\n",
    "\n",
    "Bütün metodlardaki değişimin gözle görülür şekilde değişimi beklenmektedir.\n",
    "\n",
    "\n",
    "1- capitalize(), lower(), upper(), swapcase(), title(), replace()\n",
    "\n",
    "2- endswith(), startswith(), find(), index(), count()\n",
    "\n",
    "3- split(), strip(), join(), islower(), isalpha(), isdigit()\n",
    "\n",
    "\n",
    "Yukarıdaki `string` metodlarındaki değişimleri görebildiğimiz bir program yazınız.\n"
   ]
  },
  {
   "cell_type": "code",
   "execution_count": 102,
   "metadata": {},
   "outputs": [
    {
     "name": "stdout",
     "output_type": "stream",
     "text": [
      "1) değişken: yetgen\n",
      "capitalize: Yetgen\n",
      "\n",
      "değişken: PYTHON\n",
      "lower: python\n",
      "\n",
      "değişken: abc\n",
      "upper: ABC\n",
      "\n",
      "değişken: YetGen\n",
      "swapcase: yETgEN\n",
      "\n",
      "değişken: yetgen jump python\n",
      "title: Yetgen Jump Python\n",
      "\n",
      "değişken: taklamakan\n",
      "replace: teklemeken\n",
      "\n",
      "2) değişken: aslı\n",
      "endswith i: False\n",
      "\n",
      "değişken: gemi\n",
      "startswith k: False\n",
      "\n",
      "değişken: çilek\n",
      "find(l): 2\n",
      "\n",
      "değişken: oyun\n",
      "index: 3\n",
      "\n",
      "değişken: zambak\n",
      "count: 2\n",
      "\n",
      "3) değişken: yetgen jump python\n",
      "split: ['yetgen', 'jump', 'python']\n",
      "\n",
      "değişken:               gezegen\n",
      "strip: gezegen\n",
      "\n",
      "değişken: jump\n",
      "j*u*m*p\n",
      "\n",
      "değişken: LETS GO\n",
      "islower: False\n",
      "\n",
      "değişken: abcde\n",
      "isalpha: True\n",
      "\n",
      "değişken: 123ada123\n",
      "isdigit: False\n"
     ]
    }
   ],
   "source": [
    "x = \"yetgen\"\n",
    "print(\"1) değişken:\",x)\n",
    "print(\"capitalize:\",x.capitalize())\n",
    "\n",
    "print()\n",
    "\n",
    "x = \"PYTHON\"\n",
    "print(\"değişken:\",x)\n",
    "print(\"lower:\",x.lower())\n",
    "\n",
    "print()\n",
    "\n",
    "x = \"abc\"\n",
    "print(\"değişken:\",x)\n",
    "print(\"upper:\",x.upper())\n",
    "\n",
    "print()\n",
    "\n",
    "x = \"YetGen\"\n",
    "print(\"değişken:\",x)\n",
    "print(\"swapcase:\",x.swapcase())\n",
    "\n",
    "print()\n",
    "\n",
    "x = \"yetgen jump python\"\n",
    "print(\"değişken:\",x)\n",
    "print(\"title:\",x.title())\n",
    "\n",
    "print()\n",
    "\n",
    "x = \"taklamakan\"\n",
    "print(\"değişken:\",x)\n",
    "print(\"replace:\",x.replace(\"a\",\"e\"))\n",
    "\n",
    "print()\n",
    "\n",
    "x = \"aslı\"\n",
    "print(\"2) değişken:\",x)\n",
    "print(\"endswith i:\",x.endswith(\"i\"))\n",
    "\n",
    "print()\n",
    "\n",
    "x = \"gemi\"\n",
    "print(\"değişken:\",x)\n",
    "print(\"startswith k:\",x.startswith(\"k\"))\n",
    "\n",
    "print()\n",
    "\n",
    "x = \"çilek\"\n",
    "print(\"değişken:\",x)\n",
    "print(\"find(l):\",x.find(\"l\"))\n",
    "\n",
    "print()\n",
    "\n",
    "x = \"oyun\"\n",
    "print(\"değişken:\",x)\n",
    "print(\"index:\",x.index(\"n\"))\n",
    "\n",
    "print()\n",
    "\n",
    "x = \"zambak\"\n",
    "print(\"değişken:\",x)\n",
    "print(\"count:\",x.count(\"a\"))\n",
    "\n",
    "print()\n",
    "\n",
    "x = \"yetgen jump python\"\n",
    "print(\"3) değişken:\",x)\n",
    "print(\"split:\",x.split())\n",
    "\n",
    "print()\n",
    "\n",
    "x = \"              gezegen\"\n",
    "print(\"değişken:\",          x)\n",
    "print(\"strip:\",x.strip())\n",
    "\n",
    "print()\n",
    "\n",
    "x = \"jump\"\n",
    "print(\"değişken:\",x)\n",
    "print(\"*\".join(x))\n",
    "\n",
    "print()\n",
    "\n",
    "x = \"LETS GO\"\n",
    "print(\"değişken:\",x)\n",
    "print(\"islower:\",x.islower())\n",
    "\n",
    "print()\n",
    "\n",
    "x = \"abcde\"\n",
    "print(\"değişken:\",x)\n",
    "print(\"isalpha:\",x.isalpha())\n",
    "\n",
    "print()\n",
    "\n",
    "x = \"123ada123\"\n",
    "print(\"değişken:\",x)\n",
    "print(\"isdigit:\",x.isdigit())\n",
    "\n",
    "\n",
    "\n",
    "\n",
    "\n"
   ]
  }
 ],
 "metadata": {
  "kernelspec": {
   "display_name": "Python 3.10.5 64-bit",
   "language": "python",
   "name": "python3"
  },
  "language_info": {
   "codemirror_mode": {
    "name": "ipython",
    "version": 3
   },
   "file_extension": ".py",
   "mimetype": "text/x-python",
   "name": "python",
   "nbconvert_exporter": "python",
   "pygments_lexer": "ipython3",
   "version": "3.11.1"
  },
  "orig_nbformat": 4,
  "vscode": {
   "interpreter": {
    "hash": "5026d2d6e7aaaaba093def813beadff083d8733e4a511af01735cbabd156995d"
   }
  }
 },
 "nbformat": 4,
 "nbformat_minor": 2
}
